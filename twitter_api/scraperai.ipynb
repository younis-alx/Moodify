{
 "cells": [
  {
   "cell_type": "code",
   "execution_count": 9,
   "metadata": {},
   "outputs": [],
   "source": [
    "from playwright.sync_api import sync_playwright\n"
   ]
  },
  {
   "cell_type": "code",
   "execution_count": 14,
   "metadata": {},
   "outputs": [],
   "source": [
    "import asyncio\n",
    "import json\n",
    "\n",
    "from scrapfly import ScrapeConfig, ScrapflyClient\n",
    "\n",
    "SCRAPFLY = ScrapflyClient(key=\"YOUR SCRAPFLY KEY\")\n",
    "\n",
    "async def scrape_tweet(url: str) -> dict:\n",
    "    \"\"\"\n",
    "    Scrape a single tweet page for Tweet thread e.g.:\n",
    "    https://twitter.com/Scrapfly_dev/status/1667013143904567296\n",
    "    Return parent tweet, reply tweets and recommended tweets\n",
    "    \"\"\"\n",
    "    result = await SCRAPFLY.async_scrape(ScrapeConfig(\n",
    "        url, \n",
    "        render_js=True,  # enable headless browser\n",
    "        wait_for_selector=\"[data-testid='tweet']\"  # wait for page to finish loading \n",
    "    ))\n",
    "    # capture background requests and extract ones that request Tweet data\n",
    "    _xhr_calls = result.scrape_result[\"browser_data\"][\"xhr_call\"]\n",
    "    tweet_call = [f for f in _xhr_calls if \"TweetResultByRestId\" in f[\"url\"]]\n",
    "    for xhr in tweet_call:\n",
    "        if not xhr[\"response\"]:\n",
    "            continue\n",
    "        data = json.loads(xhr[\"response\"][\"body\"])\n",
    "        return data['data']['tweetResult']['result']"
   ]
  },
  {
   "cell_type": "code",
   "execution_count": 20,
   "metadata": {},
   "outputs": [
    {
     "name": "stdout",
     "output_type": "stream",
     "text": [
      "<coroutine object scrape_tweet at 0x7fe3d05223c0>\n"
     ]
    },
    {
     "name": "stderr",
     "output_type": "stream",
     "text": [
      "/tmp/ipykernel_29874/1882328445.py:1: RuntimeWarning: coroutine 'scrape_tweet' was never awaited\n",
      "  print(scrape_tweet(\"https://twitter.com/Scrapfly_dev/status/1664267318053179398\"))\n",
      "RuntimeWarning: Enable tracemalloc to get the object allocation traceback\n"
     ]
    }
   ],
   "source": [
    "print(scrape_tweet(\"https://twitter.com/Scrapfly_dev/status/1664267318053179398\"))\n"
   ]
  },
  {
   "cell_type": "code",
   "execution_count": null,
   "metadata": {},
   "outputs": [],
   "source": []
  }
 ],
 "metadata": {
  "kernelspec": {
   "display_name": "moodify-env",
   "language": "python",
   "name": "python3"
  },
  "language_info": {
   "codemirror_mode": {
    "name": "ipython",
    "version": 3
   },
   "file_extension": ".py",
   "mimetype": "text/x-python",
   "name": "python",
   "nbconvert_exporter": "python",
   "pygments_lexer": "ipython3",
   "version": "3.9.12"
  }
 },
 "nbformat": 4,
 "nbformat_minor": 2
}
